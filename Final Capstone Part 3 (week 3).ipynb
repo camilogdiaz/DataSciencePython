{
 "cells": [
  {
   "cell_type": "code",
   "execution_count": 64,
   "metadata": {
    "scrolled": true
   },
   "outputs": [
    {
     "name": "stdout",
     "output_type": "stream",
     "text": [
      "Done\n"
     ]
    }
   ],
   "source": [
    "# Tutorial on how to scrap data from Wikipedia here: https://simpleanalytical.com/how-to-web-scrape-wikipedia-python-urllib-beautiful-soup-pandas\n",
    "\n",
    "# Import the libraries\n",
    "\n",
    "import requests\n",
    "import urllib.request\n",
    "import time\n",
    "from bs4 import BeautifulSoup\n",
    "import pandas as pd\n",
    "import numpy as np\n",
    "print('Done')"
   ]
  },
  {
   "cell_type": "code",
   "execution_count": 65,
   "metadata": {},
   "outputs": [],
   "source": [
    "# Get the webpage where to extract the data\n",
    "\n",
    "URL = 'https://en.wikipedia.org/wiki/List_of_postal_codes_of_Canada:_M'\n",
    "page = urllib.request.urlopen(URL)"
   ]
  },
  {
   "cell_type": "code",
   "execution_count": 66,
   "metadata": {},
   "outputs": [],
   "source": [
    "# Scrap the data\n",
    "\n",
    "soup = BeautifulSoup(page, \"lxml\")\n",
    "all_tables=soup.find_all(\"table\")\n",
    "right_table=soup.find('table', class_='wikitable sortable')\n",
    "\n",
    "\n",
    "# Analyse the source code and classsify the data in columns\n",
    "\n",
    "A=[]\n",
    "B=[]\n",
    "C=[]\n",
    "\n",
    "for row in right_table.findAll('tr'):\n",
    "    cells=row.findAll('td')\n",
    "    if len(cells)==3:\n",
    "        A.append(cells[0].find(text=True))\n",
    "        B.append(cells[1].find(text=True))\n",
    "        C.append(cells[2].find(text=True))"
   ]
  },
  {
   "cell_type": "code",
   "execution_count": 67,
   "metadata": {},
   "outputs": [
    {
     "data": {
      "text/html": [
       "<div>\n",
       "<style scoped>\n",
       "    .dataframe tbody tr th:only-of-type {\n",
       "        vertical-align: middle;\n",
       "    }\n",
       "\n",
       "    .dataframe tbody tr th {\n",
       "        vertical-align: top;\n",
       "    }\n",
       "\n",
       "    .dataframe thead th {\n",
       "        text-align: right;\n",
       "    }\n",
       "</style>\n",
       "<table border=\"1\" class=\"dataframe\">\n",
       "  <thead>\n",
       "    <tr style=\"text-align: right;\">\n",
       "      <th></th>\n",
       "      <th>Postal_Code</th>\n",
       "      <th>Borough</th>\n",
       "      <th>Neighborhood</th>\n",
       "    </tr>\n",
       "  </thead>\n",
       "  <tbody>\n",
       "    <tr>\n",
       "      <th>0</th>\n",
       "      <td>M1A</td>\n",
       "      <td>Not assigned</td>\n",
       "      <td></td>\n",
       "    </tr>\n",
       "    <tr>\n",
       "      <th>1</th>\n",
       "      <td>M2A</td>\n",
       "      <td>Not assigned</td>\n",
       "      <td></td>\n",
       "    </tr>\n",
       "    <tr>\n",
       "      <th>2</th>\n",
       "      <td>M3A</td>\n",
       "      <td>North York</td>\n",
       "      <td>Parkwoods</td>\n",
       "    </tr>\n",
       "    <tr>\n",
       "      <th>3</th>\n",
       "      <td>M4A</td>\n",
       "      <td>North York</td>\n",
       "      <td>Victoria Village</td>\n",
       "    </tr>\n",
       "    <tr>\n",
       "      <th>4</th>\n",
       "      <td>M5A</td>\n",
       "      <td>Downtown Toronto</td>\n",
       "      <td>Regent Park, Harbourfront</td>\n",
       "    </tr>\n",
       "  </tbody>\n",
       "</table>\n",
       "</div>"
      ],
      "text/plain": [
       "  Postal_Code            Borough                Neighborhood\n",
       "0        M1A\n",
       "      Not assigned\n",
       "                           \n",
       "\n",
       "1        M2A\n",
       "      Not assigned\n",
       "                           \n",
       "\n",
       "2        M3A\n",
       "        North York\n",
       "                  Parkwoods\n",
       "\n",
       "3        M4A\n",
       "        North York\n",
       "           Victoria Village\n",
       "\n",
       "4        M5A\n",
       "  Downtown Toronto\n",
       "  Regent Park, Harbourfront"
      ]
     },
     "execution_count": 67,
     "metadata": {},
     "output_type": "execute_result"
    }
   ],
   "source": [
    "# Transfrom the data into a readable dataframe with pandas\n",
    "\n",
    "df=pd.DataFrame(A,columns=['Postal_Code'])\n",
    "df['Borough']=B\n",
    "df['Neighborhood']=C\n",
    "df.head()"
   ]
  },
  {
   "cell_type": "code",
   "execution_count": 68,
   "metadata": {},
   "outputs": [
    {
     "data": {
      "text/html": [
       "<div>\n",
       "<style scoped>\n",
       "    .dataframe tbody tr th:only-of-type {\n",
       "        vertical-align: middle;\n",
       "    }\n",
       "\n",
       "    .dataframe tbody tr th {\n",
       "        vertical-align: top;\n",
       "    }\n",
       "\n",
       "    .dataframe thead th {\n",
       "        text-align: right;\n",
       "    }\n",
       "</style>\n",
       "<table border=\"1\" class=\"dataframe\">\n",
       "  <thead>\n",
       "    <tr style=\"text-align: right;\">\n",
       "      <th></th>\n",
       "      <th>Postal_Code</th>\n",
       "      <th>Borough</th>\n",
       "      <th>Neighborhood</th>\n",
       "    </tr>\n",
       "  </thead>\n",
       "  <tbody>\n",
       "    <tr>\n",
       "      <th>2</th>\n",
       "      <td>M3A</td>\n",
       "      <td>North York</td>\n",
       "      <td>Parkwoods</td>\n",
       "    </tr>\n",
       "    <tr>\n",
       "      <th>3</th>\n",
       "      <td>M4A</td>\n",
       "      <td>North York</td>\n",
       "      <td>Victoria Village</td>\n",
       "    </tr>\n",
       "    <tr>\n",
       "      <th>4</th>\n",
       "      <td>M5A</td>\n",
       "      <td>Downtown Toronto</td>\n",
       "      <td>Regent Park, Harbourfront</td>\n",
       "    </tr>\n",
       "    <tr>\n",
       "      <th>5</th>\n",
       "      <td>M6A</td>\n",
       "      <td>North York</td>\n",
       "      <td>Lawrence Manor, Lawrence Heights</td>\n",
       "    </tr>\n",
       "    <tr>\n",
       "      <th>6</th>\n",
       "      <td>M7A</td>\n",
       "      <td>Downtown Toronto</td>\n",
       "      <td>Queen's Park, Ontario Provincial Government</td>\n",
       "    </tr>\n",
       "  </tbody>\n",
       "</table>\n",
       "</div>"
      ],
      "text/plain": [
       "  Postal_Code            Borough                                  Neighborhood\n",
       "2        M3A\n",
       "        North York\n",
       "                                    Parkwoods\n",
       "\n",
       "3        M4A\n",
       "        North York\n",
       "                             Victoria Village\n",
       "\n",
       "4        M5A\n",
       "  Downtown Toronto\n",
       "                    Regent Park, Harbourfront\n",
       "\n",
       "5        M6A\n",
       "        North York\n",
       "             Lawrence Manor, Lawrence Heights\n",
       "\n",
       "6        M7A\n",
       "  Downtown Toronto\n",
       "  Queen's Park, Ontario Provincial Government"
      ]
     },
     "execution_count": 68,
     "metadata": {},
     "output_type": "execute_result"
    }
   ],
   "source": [
    "# drop rows if borough is not assigned\n",
    "\n",
    "df1=df[df['Neighborhood'].str.strip().astype(bool)]\n",
    "df1.head()"
   ]
  },
  {
   "cell_type": "code",
   "execution_count": 69,
   "metadata": {},
   "outputs": [
    {
     "data": {
      "text/plain": [
       "Postal_Code     object\n",
       "Borough         object\n",
       "Neighborhood    object\n",
       "dtype: object"
      ]
     },
     "execution_count": 69,
     "metadata": {},
     "output_type": "execute_result"
    }
   ],
   "source": [
    "df1.astype('str')\n",
    "df1.dtypes"
   ]
  },
  {
   "cell_type": "code",
   "execution_count": 70,
   "metadata": {},
   "outputs": [
    {
     "data": {
      "text/plain": [
       "(103, 3)"
      ]
     },
     "execution_count": 70,
     "metadata": {},
     "output_type": "execute_result"
    }
   ],
   "source": [
    "df1.shape"
   ]
  },
  {
   "cell_type": "code",
   "execution_count": null,
   "metadata": {},
   "outputs": [],
   "source": []
  },
  {
   "cell_type": "code",
   "execution_count": null,
   "metadata": {},
   "outputs": [],
   "source": []
  },
  {
   "cell_type": "code",
   "execution_count": null,
   "metadata": {},
   "outputs": [],
   "source": []
  },
  {
   "cell_type": "code",
   "execution_count": 71,
   "metadata": {},
   "outputs": [
    {
     "data": {
      "text/html": [
       "<div>\n",
       "<style scoped>\n",
       "    .dataframe tbody tr th:only-of-type {\n",
       "        vertical-align: middle;\n",
       "    }\n",
       "\n",
       "    .dataframe tbody tr th {\n",
       "        vertical-align: top;\n",
       "    }\n",
       "\n",
       "    .dataframe thead th {\n",
       "        text-align: right;\n",
       "    }\n",
       "</style>\n",
       "<table border=\"1\" class=\"dataframe\">\n",
       "  <thead>\n",
       "    <tr style=\"text-align: right;\">\n",
       "      <th></th>\n",
       "      <th>Postal Code</th>\n",
       "      <th>Latitude</th>\n",
       "      <th>Longitude</th>\n",
       "    </tr>\n",
       "  </thead>\n",
       "  <tbody>\n",
       "    <tr>\n",
       "      <th>0</th>\n",
       "      <td>M1B</td>\n",
       "      <td>43.806686</td>\n",
       "      <td>-79.194353</td>\n",
       "    </tr>\n",
       "    <tr>\n",
       "      <th>1</th>\n",
       "      <td>M1C</td>\n",
       "      <td>43.784535</td>\n",
       "      <td>-79.160497</td>\n",
       "    </tr>\n",
       "    <tr>\n",
       "      <th>2</th>\n",
       "      <td>M1E</td>\n",
       "      <td>43.763573</td>\n",
       "      <td>-79.188711</td>\n",
       "    </tr>\n",
       "    <tr>\n",
       "      <th>3</th>\n",
       "      <td>M1G</td>\n",
       "      <td>43.770992</td>\n",
       "      <td>-79.216917</td>\n",
       "    </tr>\n",
       "    <tr>\n",
       "      <th>4</th>\n",
       "      <td>M1H</td>\n",
       "      <td>43.773136</td>\n",
       "      <td>-79.239476</td>\n",
       "    </tr>\n",
       "  </tbody>\n",
       "</table>\n",
       "</div>"
      ],
      "text/plain": [
       "  Postal Code   Latitude  Longitude\n",
       "0         M1B  43.806686 -79.194353\n",
       "1         M1C  43.784535 -79.160497\n",
       "2         M1E  43.763573 -79.188711\n",
       "3         M1G  43.770992 -79.216917\n",
       "4         M1H  43.773136 -79.239476"
      ]
     },
     "execution_count": 71,
     "metadata": {},
     "output_type": "execute_result"
    }
   ],
   "source": [
    "# Importing and reading CSV file with geographical coordinates\n",
    "\n",
    "url2='http://cocl.us/Geospatial_data'\n",
    "df2=pd.read_csv(url2)\n",
    "df2.head()"
   ]
  },
  {
   "cell_type": "code",
   "execution_count": 72,
   "metadata": {
    "scrolled": true
   },
   "outputs": [
    {
     "data": {
      "text/html": [
       "<div>\n",
       "<style scoped>\n",
       "    .dataframe tbody tr th:only-of-type {\n",
       "        vertical-align: middle;\n",
       "    }\n",
       "\n",
       "    .dataframe tbody tr th {\n",
       "        vertical-align: top;\n",
       "    }\n",
       "\n",
       "    .dataframe thead th {\n",
       "        text-align: right;\n",
       "    }\n",
       "</style>\n",
       "<table border=\"1\" class=\"dataframe\">\n",
       "  <thead>\n",
       "    <tr style=\"text-align: right;\">\n",
       "      <th></th>\n",
       "      <th>Postal_Code</th>\n",
       "      <th>Latitude</th>\n",
       "      <th>Longitude</th>\n",
       "    </tr>\n",
       "  </thead>\n",
       "  <tbody>\n",
       "    <tr>\n",
       "      <th>0</th>\n",
       "      <td>M1B</td>\n",
       "      <td>43.806686</td>\n",
       "      <td>-79.194353</td>\n",
       "    </tr>\n",
       "    <tr>\n",
       "      <th>1</th>\n",
       "      <td>M1C</td>\n",
       "      <td>43.784535</td>\n",
       "      <td>-79.160497</td>\n",
       "    </tr>\n",
       "    <tr>\n",
       "      <th>2</th>\n",
       "      <td>M1E</td>\n",
       "      <td>43.763573</td>\n",
       "      <td>-79.188711</td>\n",
       "    </tr>\n",
       "    <tr>\n",
       "      <th>3</th>\n",
       "      <td>M1G</td>\n",
       "      <td>43.770992</td>\n",
       "      <td>-79.216917</td>\n",
       "    </tr>\n",
       "    <tr>\n",
       "      <th>4</th>\n",
       "      <td>M1H</td>\n",
       "      <td>43.773136</td>\n",
       "      <td>-79.239476</td>\n",
       "    </tr>\n",
       "  </tbody>\n",
       "</table>\n",
       "</div>"
      ],
      "text/plain": [
       "  Postal_Code   Latitude  Longitude\n",
       "0         M1B  43.806686 -79.194353\n",
       "1         M1C  43.784535 -79.160497\n",
       "2         M1E  43.763573 -79.188711\n",
       "3         M1G  43.770992 -79.216917\n",
       "4         M1H  43.773136 -79.239476"
      ]
     },
     "execution_count": 72,
     "metadata": {},
     "output_type": "execute_result"
    }
   ],
   "source": [
    "# Rename df2 column \"Postal Code\" to have the same key: \"Postal_Code\" than df1\n",
    "\n",
    "df2.rename(columns={'Postal Code':'Postal_Code'},inplace=True)\n",
    "df2.head()"
   ]
  },
  {
   "cell_type": "code",
   "execution_count": 73,
   "metadata": {
    "scrolled": true
   },
   "outputs": [
    {
     "data": {
      "text/html": [
       "<div>\n",
       "<style scoped>\n",
       "    .dataframe tbody tr th:only-of-type {\n",
       "        vertical-align: middle;\n",
       "    }\n",
       "\n",
       "    .dataframe tbody tr th {\n",
       "        vertical-align: top;\n",
       "    }\n",
       "\n",
       "    .dataframe thead th {\n",
       "        text-align: right;\n",
       "    }\n",
       "</style>\n",
       "<table border=\"1\" class=\"dataframe\">\n",
       "  <thead>\n",
       "    <tr style=\"text-align: right;\">\n",
       "      <th></th>\n",
       "      <th>0</th>\n",
       "      <th>1</th>\n",
       "      <th>2</th>\n",
       "      <th>3</th>\n",
       "      <th>4</th>\n",
       "      <th>5</th>\n",
       "    </tr>\n",
       "  </thead>\n",
       "  <tbody>\n",
       "    <tr>\n",
       "      <th>0</th>\n",
       "      <td>NaN</td>\n",
       "      <td>NaN</td>\n",
       "      <td>NaN</td>\n",
       "      <td>M1B</td>\n",
       "      <td>43.806686</td>\n",
       "      <td>-79.194353</td>\n",
       "    </tr>\n",
       "    <tr>\n",
       "      <th>1</th>\n",
       "      <td>NaN</td>\n",
       "      <td>NaN</td>\n",
       "      <td>NaN</td>\n",
       "      <td>M1C</td>\n",
       "      <td>43.784535</td>\n",
       "      <td>-79.160497</td>\n",
       "    </tr>\n",
       "    <tr>\n",
       "      <th>2</th>\n",
       "      <td>M3A</td>\n",
       "      <td>North York</td>\n",
       "      <td>Parkwoods</td>\n",
       "      <td>M1E</td>\n",
       "      <td>43.763573</td>\n",
       "      <td>-79.188711</td>\n",
       "    </tr>\n",
       "    <tr>\n",
       "      <th>3</th>\n",
       "      <td>M4A</td>\n",
       "      <td>North York</td>\n",
       "      <td>Victoria Village</td>\n",
       "      <td>M1G</td>\n",
       "      <td>43.770992</td>\n",
       "      <td>-79.216917</td>\n",
       "    </tr>\n",
       "    <tr>\n",
       "      <th>4</th>\n",
       "      <td>M5A</td>\n",
       "      <td>Downtown Toronto</td>\n",
       "      <td>Regent Park, Harbourfront</td>\n",
       "      <td>M1H</td>\n",
       "      <td>43.773136</td>\n",
       "      <td>-79.239476</td>\n",
       "    </tr>\n",
       "  </tbody>\n",
       "</table>\n",
       "</div>"
      ],
      "text/plain": [
       "      0                  1                           2    3          4  \\\n",
       "0   NaN                NaN                         NaN  M1B  43.806686   \n",
       "1   NaN                NaN                         NaN  M1C  43.784535   \n",
       "2  M3A\n",
       "        North York\n",
       "                  Parkwoods\n",
       "  M1E  43.763573   \n",
       "3  M4A\n",
       "        North York\n",
       "           Victoria Village\n",
       "  M1G  43.770992   \n",
       "4  M5A\n",
       "  Downtown Toronto\n",
       "  Regent Park, Harbourfront\n",
       "  M1H  43.773136   \n",
       "\n",
       "           5  \n",
       "0 -79.194353  \n",
       "1 -79.160497  \n",
       "2 -79.188711  \n",
       "3 -79.216917  \n",
       "4 -79.239476  "
      ]
     },
     "execution_count": 73,
     "metadata": {},
     "output_type": "execute_result"
    }
   ],
   "source": [
    "# Merge the 2 dataframes \n",
    "\n",
    "df3=pd.concat([df1,df2],sort=True, ignore_index=True,axis=1, verify_integrity=True)\n",
    "df3.head()"
   ]
  },
  {
   "cell_type": "code",
   "execution_count": 74,
   "metadata": {
    "scrolled": true
   },
   "outputs": [
    {
     "data": {
      "text/html": [
       "<div>\n",
       "<style scoped>\n",
       "    .dataframe tbody tr th:only-of-type {\n",
       "        vertical-align: middle;\n",
       "    }\n",
       "\n",
       "    .dataframe tbody tr th {\n",
       "        vertical-align: top;\n",
       "    }\n",
       "\n",
       "    .dataframe thead th {\n",
       "        text-align: right;\n",
       "    }\n",
       "</style>\n",
       "<table border=\"1\" class=\"dataframe\">\n",
       "  <thead>\n",
       "    <tr style=\"text-align: right;\">\n",
       "      <th></th>\n",
       "      <th>Postal_Code</th>\n",
       "      <th>Borough</th>\n",
       "      <th>Neighborhood</th>\n",
       "      <th>Longitude</th>\n",
       "      <th>Latitude</th>\n",
       "    </tr>\n",
       "  </thead>\n",
       "  <tbody>\n",
       "    <tr>\n",
       "      <th>2</th>\n",
       "      <td>M3A</td>\n",
       "      <td>North York</td>\n",
       "      <td>Parkwoods</td>\n",
       "      <td>43.763573</td>\n",
       "      <td>-79.188711</td>\n",
       "    </tr>\n",
       "    <tr>\n",
       "      <th>3</th>\n",
       "      <td>M4A</td>\n",
       "      <td>North York</td>\n",
       "      <td>Victoria Village</td>\n",
       "      <td>43.770992</td>\n",
       "      <td>-79.216917</td>\n",
       "    </tr>\n",
       "    <tr>\n",
       "      <th>4</th>\n",
       "      <td>M5A</td>\n",
       "      <td>Downtown Toronto</td>\n",
       "      <td>Regent Park, Harbourfront</td>\n",
       "      <td>43.773136</td>\n",
       "      <td>-79.239476</td>\n",
       "    </tr>\n",
       "    <tr>\n",
       "      <th>5</th>\n",
       "      <td>M6A</td>\n",
       "      <td>North York</td>\n",
       "      <td>Lawrence Manor, Lawrence Heights</td>\n",
       "      <td>43.744734</td>\n",
       "      <td>-79.239476</td>\n",
       "    </tr>\n",
       "    <tr>\n",
       "      <th>6</th>\n",
       "      <td>M7A</td>\n",
       "      <td>Downtown Toronto</td>\n",
       "      <td>Queen's Park, Ontario Provincial Government</td>\n",
       "      <td>43.727929</td>\n",
       "      <td>-79.262029</td>\n",
       "    </tr>\n",
       "  </tbody>\n",
       "</table>\n",
       "</div>"
      ],
      "text/plain": [
       "  Postal_Code            Borough  \\\n",
       "2        M3A\n",
       "        North York\n",
       "   \n",
       "3        M4A\n",
       "        North York\n",
       "   \n",
       "4        M5A\n",
       "  Downtown Toronto\n",
       "   \n",
       "5        M6A\n",
       "        North York\n",
       "   \n",
       "6        M7A\n",
       "  Downtown Toronto\n",
       "   \n",
       "\n",
       "                                   Neighborhood  Longitude   Latitude  \n",
       "2                                    Parkwoods\n",
       "  43.763573 -79.188711  \n",
       "3                             Victoria Village\n",
       "  43.770992 -79.216917  \n",
       "4                    Regent Park, Harbourfront\n",
       "  43.773136 -79.239476  \n",
       "5             Lawrence Manor, Lawrence Heights\n",
       "  43.744734 -79.239476  \n",
       "6  Queen's Park, Ontario Provincial Government\n",
       "  43.727929 -79.262029  "
      ]
     },
     "execution_count": 74,
     "metadata": {},
     "output_type": "execute_result"
    }
   ],
   "source": [
    "# Clean the dataframe from NaN Values and undesirable columns\n",
    "\n",
    "df3.dropna(inplace=True)\n",
    "df3.columns=[\"Postal_Code\",\"Borough\",\"Neighborhood\",\"ToErase\",\"Longitude\",\"Latitude\"]\n",
    "df3.drop(\"ToErase\",axis=1, inplace=True)\n",
    "df3.head()"
   ]
  },
  {
   "cell_type": "code",
   "execution_count": 75,
   "metadata": {},
   "outputs": [
    {
     "data": {
      "text/plain": [
       "Postal_Code      object\n",
       "Borough          object\n",
       "Neighborhood     object\n",
       "Longitude       float64\n",
       "Latitude        float64\n",
       "dtype: object"
      ]
     },
     "execution_count": 75,
     "metadata": {},
     "output_type": "execute_result"
    }
   ],
   "source": [
    "df3.dtypes"
   ]
  },
  {
   "cell_type": "code",
   "execution_count": 76,
   "metadata": {},
   "outputs": [
    {
     "name": "stdout",
     "output_type": "stream",
     "text": [
      "The dataframe has 9 boroughs and 68 neighborhoods.\n"
     ]
    }
   ],
   "source": [
    "print('The dataframe has {} boroughs and {} neighborhoods.'.format(\n",
    "        len(df3['Borough'].unique()),\n",
    "        df3.shape[0]\n",
    "    )\n",
    ")"
   ]
  },
  {
   "cell_type": "code",
   "execution_count": null,
   "metadata": {},
   "outputs": [],
   "source": []
  },
  {
   "cell_type": "code",
   "execution_count": null,
   "metadata": {},
   "outputs": [],
   "source": []
  },
  {
   "cell_type": "code",
   "execution_count": null,
   "metadata": {},
   "outputs": [],
   "source": []
  },
  {
   "cell_type": "code",
   "execution_count": 77,
   "metadata": {},
   "outputs": [
    {
     "name": "stdout",
     "output_type": "stream",
     "text": [
      "Matplot done\n",
      "Sklearn done\n",
      "Geopy done\n",
      "Folium done\n",
      "All Libraries imported.\n"
     ]
    }
   ],
   "source": [
    "# Import some libraries to cluster and display maps\n",
    "\n",
    "# Matplotlib and associated plotting modules\n",
    "import matplotlib.cm as cm\n",
    "import matplotlib.colors as colors\n",
    "print(\"Matplot done\")\n",
    "\n",
    "# import k-means from clustering stage\n",
    "from sklearn.cluster import KMeans\n",
    "print(\"Sklearn done\")\n",
    "\n",
    "# !conda install -c conda-forge geopy --yes # uncomment if not installed\n",
    "from geopy.geocoders import Nominatim # convert an address into latitude and longitude values\n",
    "print (\"Geopy done\")\n",
    "\n",
    "\n",
    "# !conda install -c conda-forge folium=0.5.0 --yes #uncomment if not installed\n",
    "import folium # map rendering library\n",
    "print(\"Folium done\")\n",
    "\n",
    "\n",
    "print('All Libraries imported.')"
   ]
  },
  {
   "cell_type": "code",
   "execution_count": 78,
   "metadata": {},
   "outputs": [
    {
     "name": "stdout",
     "output_type": "stream",
     "text": [
      "The geograpical coordinate of Toronto are 43.6534817, -79.3839347.\n"
     ]
    }
   ],
   "source": [
    "# Define the area\n",
    "\n",
    "address = 'Toronto, CA'\n",
    "\n",
    "geolocator = Nominatim(user_agent=\"toronto_explorer\")\n",
    "location = geolocator.geocode(address)\n",
    "latitude = location.latitude\n",
    "longitude = location.longitude\n",
    "print('The geograpical coordinate of Toronto are {}, {}.'.format(latitude, longitude))"
   ]
  },
  {
   "cell_type": "code",
   "execution_count": 79,
   "metadata": {},
   "outputs": [
    {
     "data": {
      "text/html": [
       "<div style=\"width:100%;\"><div style=\"position:relative;width:100%;height:0;padding-bottom:60%;\"><span style=\"color:#565656\">Make this Notebook Trusted to load map: File -> Trust Notebook</span><iframe src=\"about:blank\" style=\"position:absolute;width:100%;height:100%;left:0;top:0;border:none !important;\" data-html=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 onload=\"this.contentDocument.open();this.contentDocument.write(atob(this.getAttribute('data-html')));this.contentDocument.close();\" allowfullscreen webkitallowfullscreen mozallowfullscreen></iframe></div></div>"
      ],
      "text/plain": [
       "<folium.folium.Map at 0x7fb58d6a4668>"
      ]
     },
     "execution_count": 79,
     "metadata": {},
     "output_type": "execute_result"
    }
   ],
   "source": [
    "# create map of Toronto using latitude and longitude values\n",
    "\n",
    "map_toronto = folium.Map(location=[latitude, longitude], zoom_start=10)\n",
    "\n",
    "# add markers to map\n",
    "for lat, lng, borough, neighborhood in zip(df3['Latitude'], df3['Longitude'], df3['Borough'], df3['Neighborhood']):\n",
    "    label = '{}, {}'.format(neighborhood, borough)\n",
    "    label = folium.Popup(label, parse_html=True)\n",
    "    folium.CircleMarker(\n",
    "        [lat, lng],\n",
    "        radius=5,\n",
    "        popup=label,\n",
    "        color='blue',\n",
    "        fill=True,\n",
    "        fill_color='#3186cc',\n",
    "        fill_opacity=0.7,\n",
    "        parse_html=False).add_to(map_toronto)  \n",
    "    \n",
    "map_toronto"
   ]
  },
  {
   "cell_type": "code",
   "execution_count": 91,
   "metadata": {},
   "outputs": [
    {
     "data": {
      "text/html": [
       "<div>\n",
       "<style scoped>\n",
       "    .dataframe tbody tr th:only-of-type {\n",
       "        vertical-align: middle;\n",
       "    }\n",
       "\n",
       "    .dataframe tbody tr th {\n",
       "        vertical-align: top;\n",
       "    }\n",
       "\n",
       "    .dataframe thead th {\n",
       "        text-align: right;\n",
       "    }\n",
       "</style>\n",
       "<table border=\"1\" class=\"dataframe\">\n",
       "  <thead>\n",
       "    <tr style=\"text-align: right;\">\n",
       "      <th></th>\n",
       "      <th>Postal_Code</th>\n",
       "      <th>Borough</th>\n",
       "      <th>Neighborhood</th>\n",
       "      <th>Longitude</th>\n",
       "      <th>Latitude</th>\n",
       "    </tr>\n",
       "  </thead>\n",
       "  <tbody>\n",
       "  </tbody>\n",
       "</table>\n",
       "</div>"
      ],
      "text/plain": [
       "Empty DataFrame\n",
       "Columns: [Postal_Code, Borough, Neighborhood, Longitude, Latitude]\n",
       "Index: []"
      ]
     },
     "execution_count": 91,
     "metadata": {},
     "output_type": "execute_result"
    }
   ],
   "source": [
    "# Segment and cluster only the neighborhoods in Downtown Toronto\n",
    "\n",
    "dttoronto_data=df3[df3[\"Borough\"] == \"Downtown Toronto\"].reset_index(drop=True)\n",
    "dttoronto_data"
   ]
  },
  {
   "cell_type": "code",
   "execution_count": null,
   "metadata": {},
   "outputs": [],
   "source": []
  },
  {
   "cell_type": "code",
   "execution_count": null,
   "metadata": {},
   "outputs": [],
   "source": []
  }
 ],
 "metadata": {
  "kernelspec": {
   "display_name": "Python 3.6",
   "language": "python",
   "name": "python3"
  },
  "language_info": {
   "codemirror_mode": {
    "name": "ipython",
    "version": 3
   },
   "file_extension": ".py",
   "mimetype": "text/x-python",
   "name": "python",
   "nbconvert_exporter": "python",
   "pygments_lexer": "ipython3",
   "version": "3.6.9"
  }
 },
 "nbformat": 4,
 "nbformat_minor": 1
}
